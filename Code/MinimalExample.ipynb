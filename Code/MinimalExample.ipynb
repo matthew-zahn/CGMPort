{
 "cells": [
  {
   "cell_type": "code",
   "execution_count": 1,
   "metadata": {},
   "outputs": [],
   "source": [
    "# Preamble\n",
    "import HARK.ConsumptionSaving.ConsPortfolioModel as cpm\n",
    "import HARK.ConsumptionSaving.ConsumerParameters as param\n",
    "import copy\n",
    "import matplotlib.pyplot as plt\n",
    "import numpy as np\n",
    "from HARK.ConsumptionSaving.ConsPortfolioModel import PortfolioSolution"
   ]
  },
  {
   "cell_type": "code",
   "execution_count": 2,
   "metadata": {},
   "outputs": [],
   "source": [
    "# Set up the model and its parameters\n",
    "\n",
    "# Create distribution of risky returns\n",
    "\n",
    "Avg = 1.08 # equity premium \n",
    "Std = 0.15 # standard deviation of rate-of-return shocks\n",
    "\n",
    "RiskyDstnFunc = cpm.RiskyDstnFactory(RiskyAvg=Avg, RiskyStd=Std) # Generates nodes for integration\n",
    "RiskyDrawFunc = cpm.LogNormalRiskyDstnDraw(RiskyAvg=Avg, RiskyStd=Std) # Generates draws from the \"true\" distribution\n",
    "\n",
    "\n",
    "# Make a dictionary to specify the rest of params\n",
    "dict_portfolio = { \n",
    "                   # Usual params\n",
    "                   'CRRA': 10,\n",
    "                   'Rfree': 1.02,\n",
    "                   'DiscFac': 0.96,\n",
    "                    \n",
    "                   # Life cycle\n",
    "                   'T_age' : 11, # Time of death\n",
    "                   'T_cycle' : 10, # Simulation timeframe\n",
    "                   'T_retire':8,\n",
    "                   'LivPrb': [1,1,1,1,1,1,1,1,1,1],\n",
    "                   'PermGroFac': [1,1,1,1,1,1,1,1,1,1],\n",
    "        \n",
    "                   # Income shocks\n",
    "                   'PermShkStd': [0.1,0.2,0.1,0.2,0.1,0.2,0.1,0,0,0],\n",
    "                   'PermShkCount': 7,\n",
    "                   'TranShkStd': [0.3,0.2,0.1,0.3,0.2,0.1,0.3,0,0,0],\n",
    "                   'TranShkCount': 7,\n",
    "                   'UnempPrb': 0,\n",
    "                   'UnempPrbRet': 0,\n",
    "                   'IncUnemp': 0,\n",
    "                   'IncUnempRet': 0,\n",
    "                   'BoroCnstArt': 0,\n",
    "                   'tax_rate':0.0,\n",
    "                   \n",
    "                    # Portfolio related params\n",
    "                   'approxRiskyDstn': RiskyDstnFunc,\n",
    "                   'drawRiskyFunc': RiskyDrawFunc,\n",
    "                   'RiskyCount': 10,\n",
    "                   'RiskyShareCount': 30,\n",
    "                  \n",
    "                   # Grid stuff? \n",
    "                   'aXtraMin': 0.001,\n",
    "                   'aXtraMax': 20,\n",
    "                   'aXtraCount': 48,\n",
    "                   'aXtraExtra': [None],\n",
    "                   'aXtraNestFac': 3,\n",
    "                   \n",
    "                   # General\n",
    "                   'vFuncBool': False,\n",
    "                   'CubicBool': False\n",
    "}\n",
    "\n",
    "agent = cpm.PortfolioConsumerType(**dict_portfolio)"
   ]
  },
  {
   "cell_type": "code",
   "execution_count": 3,
   "metadata": {},
   "outputs": [],
   "source": [
    "# Solution\n",
    "agent.solve()"
   ]
  },
  {
   "cell_type": "code",
   "execution_count": 4,
   "metadata": {},
   "outputs": [
    {
     "data": {
      "text/plain": [
       "<matplotlib.legend.Legend at 0x2a3d5236080>"
      ]
     },
     "execution_count": 4,
     "metadata": {},
     "output_type": "execute_result"
    },
    {
     "data": {
      "image/png": "[encoded data removed]",
      "text/plain": [
       "<Figure size 432x288 with 1 Axes>"
      ]
     },
     "metadata": {
      "needs_background": "light"
     },
     "output_type": "display_data"
    }
   ],
   "source": [
    "# Plot portfolio rule\n",
    "eevalgrid = np.linspace(0,100,100)\n",
    "\n",
    "# In the last period of life you consume everything\n",
    "# so portfolio choice is irrelevant\n",
    "for i in range(len(agent.solution)-1):\n",
    "    plt.plot(eevalgrid, agent.solution[i].RiskyShareFunc[0][0](eevalgrid),\n",
    "             label = 't = %i' %(i))\n",
    "plt.xlabel('Wealth')\n",
    "plt.legend()"
   ]
  }
 ],
 "metadata": {
  "jupytext": {
   "encoding": "# -*- coding: utf-8 -*-",
   "formats": "ipynb,py:percent"
  },
  "kernelspec": {
   "display_name": "Python 3",
   "language": "python",
   "name": "python3"
  },
  "language_info": {
   "codemirror_mode": {
    "name": "ipython",
    "version": 3
   },
   "file_extension": ".py",
   "mimetype": "text/x-python",
   "name": "python",
   "nbconvert_exporter": "python",
   "pygments_lexer": "ipython3",
   "version": "3.7.3"
  },
  "latex_envs": {
   "LaTeX_envs_menu_present": true,
   "autoclose": false,
   "autocomplete": true,
   "bibliofile": "biblio.bib",
   "cite_by": "apalike",
   "current_citInitial": 1,
   "eqLabelWithNumbers": true,
   "eqNumInitial": 1,
   "hotkeys": {
    "equation": "Ctrl-E",
    "itemize": "Ctrl-I"
   },
   "labels_anchors": false,
   "latex_user_defs": false,
   "report_style_numbering": false,
   "user_envs_cfg": false
  },
  "varInspector": {
   "cols": {
    "lenName": 16,
    "lenType": 16,
    "lenVar": 40
   },
   "kernels_config": {
    "python": {
     "delete_cmd_postfix": "",
     "delete_cmd_prefix": "del ",
     "library": "var_list.py",
     "varRefreshCmd": "print(var_dic_list())"
    },
    "r": {
     "delete_cmd_postfix": ") ",
     "delete_cmd_prefix": "rm(",
     "library": "var_list.r",
     "varRefreshCmd": "cat(var_dic_list()) "
    }
   },
   "types_to_exclude": [
    "module",
    "function",
    "builtin_function_or_method",
    "instance",
    "_Feature"
   ],
   "window_display": false
  }
 },
 "nbformat": 4,
 "nbformat_minor": 2
}
